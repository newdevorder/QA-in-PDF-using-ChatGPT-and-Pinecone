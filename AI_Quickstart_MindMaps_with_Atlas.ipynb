{
  "nbformat": 4,
  "nbformat_minor": 0,
  "metadata": {
    "colab": {
      "provenance": [],
      "include_colab_link": true
    },
    "kernelspec": {
      "name": "python3",
      "display_name": "Python 3"
    },
    "language_info": {
      "name": "python"
    }
  },
  "cells": [
    {
      "cell_type": "markdown",
      "metadata": {
        "id": "view-in-github",
        "colab_type": "text"
      },
      "source": [
        "<a href=\"https://colab.research.google.com/github/newdevorder/QA-in-PDF-using-ChatGPT-and-Pinecone/blob/main/AI_Quickstart_MindMaps_with_Atlas.ipynb\" target=\"_parent\"><img src=\"https://colab.research.google.com/assets/colab-badge.svg\" alt=\"Open In Colab\"/></a>"
      ]
    },
    {
      "cell_type": "markdown",
      "source": [
        "# So You Wanna Make A Mind Map\n",
        "### Let's visualize the information in a text file.\n",
        "##### After all, an interactive visualization says a thousand words.\n",
        "---\n",
        "\n",
        "###### This tutorial is based on a Langchain Tutorial with customizations so it can execute in this Google Colab Notebook.\n",
        "\n",
        "The original tutorial can be found here: https://python.langchain.com/docs/integrations/vectorstores/atlas\n",
        "\n",
        "This youtube video will help you understand how to use this tutorial: https://youtu.be/u-nHB7hjKxE"
      ],
      "metadata": {
        "id": "TPZYYNTngdV7"
      }
    },
    {
      "cell_type": "code",
      "execution_count": null,
      "metadata": {
        "id": "CnkDdZ2Vbz63"
      },
      "outputs": [],
      "source": [
        "pip install spacy"
      ]
    },
    {
      "cell_type": "code",
      "source": [
        "!python -m spacy download en_core_web_sm"
      ],
      "metadata": {
        "id": "2BITgSTLb-op"
      },
      "execution_count": null,
      "outputs": []
    },
    {
      "cell_type": "code",
      "source": [
        "pip install nomic"
      ],
      "metadata": {
        "id": "9qqQg0DIcQpl"
      },
      "execution_count": null,
      "outputs": []
    },
    {
      "cell_type": "code",
      "source": [
        "!pip install langchain"
      ],
      "metadata": {
        "id": "vO8ivfkxcaDG"
      },
      "execution_count": null,
      "outputs": []
    },
    {
      "cell_type": "code",
      "source": [
        "import time\n",
        "from langchain.embeddings.openai import OpenAIEmbeddings\n",
        "from langchain.text_splitter import SpacyTextSplitter\n",
        "from langchain.vectorstores import AtlasDB\n",
        "from langchain.document_loaders import TextLoader"
      ],
      "metadata": {
        "id": "E0pIFMPFcUyf"
      },
      "execution_count": null,
      "outputs": []
    },
    {
      "cell_type": "code",
      "source": [
        "ATLAS_TEST_API_KEY = \"7xDPkYXSYDc1_ErdTPIcoAR9RNd8YDlkS3nVNXcVoIMZ6\""
      ],
      "metadata": {
        "id": "1IXNfgkZcivb"
      },
      "execution_count": null,
      "outputs": []
    },
    {
      "cell_type": "code",
      "source": [
        "loader = TextLoader(\"/content/genesis_ch1.txt\")\n",
        "documents = loader.load()\n",
        "text_splitter = SpacyTextSplitter(separator=\"|\")\n",
        "texts = []\n",
        "for doc in text_splitter.split_documents(documents):\n",
        "    texts.extend(doc.page_content.split(\"|\"))\n",
        "\n",
        "texts = [e.strip() for e in texts]"
      ],
      "metadata": {
        "id": "R8-fwgFRcjjR"
      },
      "execution_count": null,
      "outputs": []
    },
    {
      "cell_type": "code",
      "source": [
        "db = AtlasDB.from_texts(\n",
        "    texts=texts,\n",
        "    name=\"test_index_\" + str(time.time()),  # unique name for your vector store\n",
        "    description=\"test_index\",  # a description for your vector store\n",
        "    api_key=ATLAS_TEST_API_KEY,\n",
        "    index_kwargs={\"build_topic_model\": True},\n",
        ")"
      ],
      "metadata": {
        "colab": {
          "base_uri": "https://localhost:8080/"
        },
        "id": "OiU4oMW0c3G7",
        "outputId": "a9efaf6b-4004-4f71-cffe-a6018d1a8bf7"
      },
      "execution_count": null,
      "outputs": [
        {
          "output_type": "stream",
          "name": "stderr",
          "text": [
            "\u001b[32m2023-09-03 21:00:25.152\u001b[0m | \u001b[1mINFO    \u001b[0m | \u001b[36mnomic.project\u001b[0m:\u001b[36m_create_project\u001b[0m:\u001b[36m790\u001b[0m - \u001b[1mCreating project `test_index_1693774823.0166712` in organization `Atlas Demo`\u001b[0m\n",
            "1it [00:08,  8.78s/it]\n",
            "\u001b[32m2023-09-03 21:00:42.792\u001b[0m | \u001b[1mINFO    \u001b[0m | \u001b[36mnomic.project\u001b[0m:\u001b[36m_add_data\u001b[0m:\u001b[36m1422\u001b[0m - \u001b[1mUpload succeeded.\u001b[0m\n",
            "\u001b[32m2023-09-03 21:00:44.352\u001b[0m | \u001b[1mINFO    \u001b[0m | \u001b[36mnomic.project\u001b[0m:\u001b[36mcreate_index\u001b[0m:\u001b[36m1132\u001b[0m - \u001b[1mCreated map `test_index_1693774823.0166712_index` in project `test_index_1693774823.0166712`: https://atlas.nomic.ai/map/ee0ecdda-2d3f-4a1e-984d-21ea840329d0/ce23b6a8-3492-4f89-afc9-9f3a5d4082bc\u001b[0m\n"
          ]
        }
      ]
    },
    {
      "cell_type": "code",
      "source": [
        "db.project.wait_for_project_lock()"
      ],
      "metadata": {
        "colab": {
          "base_uri": "https://localhost:8080/"
        },
        "id": "DJZ61QTRc8Vb",
        "outputId": "a167300f-6927-4403-e4d3-74df65497bf9"
      },
      "execution_count": null,
      "outputs": [
        {
          "output_type": "execute_result",
          "data": {
            "text/plain": [
              "<contextlib._GeneratorContextManager at 0x79e65d00fac0>"
            ]
          },
          "metadata": {},
          "execution_count": 20
        }
      ]
    },
    {
      "cell_type": "code",
      "source": [
        "db.project"
      ],
      "metadata": {
        "colab": {
          "base_uri": "https://localhost:8080/",
          "height": 116
        },
        "id": "Tc7gjTITdCyR",
        "outputId": "0c7cd6a9-1fc8-4fb8-b520-810e11da9d41"
      },
      "execution_count": null,
      "outputs": [
        {
          "output_type": "execute_result",
          "data": {
            "text/plain": [
              "AtlasProject: <{'id': 'ee0ecdda-2d3f-4a1e-984d-21ea840329d0', 'owner': '9c29afbb-a002-4d49-958e-ecf5ae1351ac', 'project_name': 'test_index_1693774823.0166712', 'creator': 'auth0|63efc4b5462246f4d9a6ecf2', 'description': 'A description for your project', 'opensearch_index_id': 'aa4d33c3-315f-48f9-a2ec-90bda9cfbaf0', 'is_public': True, 'project_fields': ['text', 'atlas_id'], 'unique_id_field': 'atlas_id', 'modality': 'text', 'total_datums_in_project': 222, 'created_timestamp': '2023-09-03T21:00:32.636231+00:00', 'atlas_indices': [{'id': '4f1e6f79-6a9b-4de0-ab23-2f8da0e3c510', 'project_id': 'ee0ecdda-2d3f-4a1e-984d-21ea840329d0', 'index_name': 'test_index_1693774823.0166712_index', 'indexed_field': 'text', 'created_timestamp': '2023-09-03T21:00:43.681174+00:00', 'updated_timestamp': '2023-09-03T21:00:43.681174+00:00', 'atoms': ['charchunk', 'document'], 'colorable_fields': [], 'embedders': [{'id': '7ef4bd59-aa2b-4ed4-950c-ab765169e530', 'atlas_index_id': '4f1e6f79-6a9b-4de0-ab23-2f8da0e3c510', 'ready': False, 'model_name': 'NomicEmbed', 'hyperparameters': {'norm': 'both', 'batch_size': 20, 'polymerize_by': 'charchunk', 'dataset_buffer_size': 1000}}], 'nearest_neighbor_indices': [{'id': 'edfaba76-e5c5-4548-8c83-ebd6b261bae3', 'index_name': 'NomicOrganize', 'ready': False, 'hyperparameters': {'M': 16, 'space': 'l2', 'ef_construction': 100}, 'atom_strategies': ['document']}], 'projections': [{'id': 'ce23b6a8-3492-4f89-afc9-9f3a5d4082bc', 'projection_name': 'NomicProject', 'ready': False, 'hyperparameters': {'spread': 1.0, 'n_epochs': 50, 'n_neighbors': 15}, 'atom_strategies': ['document'], 'created_timestamp': '2023-09-03T21:00:43.729650+00:00', 'updated_timestamp': '2023-09-03T21:00:43.729650+00:00', 'thumbnail': 'https://atlas-content-production.s3.amazonaws.com/projects/ee0ecdda-2d3f-4a1e-984d-21ea840329d0/ce23b6a8-3492-4f89-afc9-9f3a5d4082bc/map.png', 'og_image': 'https://atlas-content-production.s3.amazonaws.com/projects/ee0ecdda-2d3f-4a1e-984d-21ea840329d0/ce23b6a8-3492-4f89-afc9-9f3a5d4082bc/og-map.png'}]}], 'insert_update_delete_lock': True, 'access_role': 'OWNER', 'schema': '/////wABAAAQAAAAAAAKAA4ABgAFAAgACgAAAAABBAAQAAAAAAAKAAwAAAAEAAgACgAAAGAAAAAEAAAAAQAAAAwAAAAIAAwABAAIAAgAAAAIAAAAFAAAAAoAAABwcm9qZWN0X2lkAAAkAAAAZWUwZWNkZGEtMmQzZi00YTFlLTk4NGQtMjFlYTg0MDMyOWQwAAAAAAIAAABEAAAABAAAANT///8AAAEFEAAAABwAAAAEAAAAAAAAAAgAAABhdGxhc19pZAAAAADI////EAAUAAgABgAHAAwAAAAQABAAAAAAAAEFEAAAABwAAAAEAAAAAAAAAAQAAAB0ZXh0AAAAAAQABAAEAAAA'}>"
            ],
            "text/html": [
              "\n",
              "            <strong><a href=\"https://atlas.nomic.ai/dashboard/project/ee0ecdda-2d3f-4a1e-984d-21ea840329d0\">test_index_1693774823.0166712</strong></a>\n",
              "            <br>\n",
              "            A description for your project 222 datums inserted.\n",
              "            <br>\n",
              "            1 index built.\n",
              "            <br><strong>Projections</strong>\n",
              "<ul>\n",
              "<li>test_index_1693774823.0166712_index. Status Projecting. <a target=\"_blank\" href=\"https://atlas.nomic.ai/map/ee0ecdda-2d3f-4a1e-984d-21ea840329d0/ce23b6a8-3492-4f89-afc9-9f3a5d4082bc\">view online</a></li></ul>"
            ]
          },
          "metadata": {},
          "execution_count": 21
        }
      ]
    }
  ]
}